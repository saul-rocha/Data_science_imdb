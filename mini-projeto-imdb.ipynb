{
 "cells": [
  {
   "cell_type": "code",
   "execution_count": null,
   "id": "cf77ca68",
   "metadata": {},
   "outputs": [],
   "source": [
    "#instala o pacote imdb\n",
    "!pip install -q imdb-sqlite"
   ]
  },
  {
   "cell_type": "code",
   "execution_count": null,
   "id": "f9642857",
   "metadata": {},
   "outputs": [],
   "source": [
    "#instala o pacote \n",
    "#https://pypi.org/project/pycountry/\n",
    "!pip install -q pycountry"
   ]
  },
  {
   "cell_type": "code",
   "execution_count": 1,
   "id": "2c7db006",
   "metadata": {},
   "outputs": [],
   "source": [
    "import re\n",
    "import time\n",
    "import sqlite3\n",
    "import pycountry\n",
    "import numpy as np\n",
    "import pandas as pd\n",
    "import matplotlib.pyplot as plt\n",
    "import seaborn as sns\n",
    "from matplotlib import cm\n",
    "from sklearn.feature_extraction.text import CountVectorizer\n",
    "import warnings\n",
    "warnings.filterwarnings(\"ignore\")\n",
    "sns.set_theme(style=\"whitegrid\")"
   ]
  },
  {
   "cell_type": "code",
   "execution_count": null,
   "id": "b0547d8e",
   "metadata": {},
   "outputs": [],
   "source": [
    "##baixa o banco de dados do IMDB\n",
    "## aguarde baixar tudo (maximo e aproximadamente 40min, dependendo da sua conexão e hardware)\n",
    "%%time\n",
    "!imdb-sqlite"
   ]
  },
  {
   "cell_type": "code",
   "execution_count": 2,
   "id": "91c2e6a5",
   "metadata": {},
   "outputs": [],
   "source": [
    "##conectando a banco de dados\n",
    "conn = sqlite3.connect(\"imdb.db\")"
   ]
  },
  {
   "cell_type": "code",
   "execution_count": null,
   "id": "4f56d2cd",
   "metadata": {},
   "outputs": [],
   "source": [
    "#extrai a lista de tabelas\n",
    "tabelas = pd.read_sql_query(\"SELECT NAME AS 'Table_name' FROM sqlite_master WHERE type='table'\", conn)"
   ]
  },
  {
   "cell_type": "code",
   "execution_count": null,
   "id": "df0b4afd",
   "metadata": {},
   "outputs": [],
   "source": [
    "tabelas.head()"
   ]
  },
  {
   "cell_type": "code",
   "execution_count": null,
   "id": "3fd81666",
   "metadata": {},
   "outputs": [],
   "source": [
    "#convertendo dataframe em lista\n",
    "tabelas = tabelas[\"Table_name\"].values.tolist()"
   ]
  },
  {
   "cell_type": "code",
   "execution_count": null,
   "id": "0354867a",
   "metadata": {},
   "outputs": [],
   "source": [
    "for tabela in tabelas:\n",
    "    consulta = \"PRAGMA TABLE_INFO({})\".format(tabela)\n",
    "    resultado = pd.read_sql_query(consulta,conn)\n",
    "    print(\"Esquema da tabela:\", tabela)\n",
    "    display(resultado)\n",
    "    print(\"-\"*100)\n",
    "    print(\"\\n\")"
   ]
  },
  {
   "cell_type": "markdown",
   "id": "8597e393",
   "metadata": {},
   "source": [
    "Análise Exploratória de Dados"
   ]
  },
  {
   "cell_type": "markdown",
   "id": "90ebdc21",
   "metadata": {},
   "source": [
    "## 1 - Quais são as categorias de filmes mais comuns no imdb?\n",
    "Quais são os principais tipos(categorias) dos titulos(filmes)?"
   ]
  },
  {
   "cell_type": "code",
   "execution_count": null,
   "id": "32d03583",
   "metadata": {},
   "outputs": [],
   "source": [
    "#Cria Consulta SQL\n",
    "consulta1 = \"SELECT type, COUNT(*) AS COUNT FROM titles GROUP BY type\""
   ]
  },
  {
   "cell_type": "code",
   "execution_count": null,
   "id": "e642822e",
   "metadata": {},
   "outputs": [],
   "source": [
    "#Extraindo o resultado\n",
    "resultado1 = pd.read_sql_query(consulta1, conn)"
   ]
  },
  {
   "cell_type": "code",
   "execution_count": null,
   "id": "c340fa17",
   "metadata": {},
   "outputs": [],
   "source": [
    "display(resultado1)"
   ]
  },
  {
   "cell_type": "code",
   "execution_count": null,
   "id": "bea9d4d8",
   "metadata": {},
   "outputs": [],
   "source": [
    "#Percentual de cada tipo\n",
    "resultado1[\"percentual\"] = (resultado1[\"COUNT\"] / resultado1[\"COUNT\"].sum())*100"
   ]
  },
  {
   "cell_type": "code",
   "execution_count": null,
   "id": "da6954ab",
   "metadata": {},
   "outputs": [],
   "source": [
    "display(resultado1)"
   ]
  },
  {
   "cell_type": "code",
   "execution_count": null,
   "id": "06948ba8",
   "metadata": {},
   "outputs": [],
   "source": [
    "#apresentando o resultado em gŕafico\n",
    "outros = {}\n",
    "\n",
    "\n",
    "#filtra o percentual em 5% e soma o total\n",
    "outros[\"COUNT\"] = resultado1[resultado1[\"percentual\"] < 5][\"COUNT\"].sum()\n",
    "\n",
    "#Gravando o percentual\n",
    "outros[\"percentual\"] = resultado1[resultado1[\"percentual\"] < 5][\"percentual\"].sum()\n",
    "\n",
    "outros[\"type\"] = \"outros\"\n"
   ]
  },
  {
   "cell_type": "code",
   "execution_count": null,
   "id": "c4a8416c",
   "metadata": {},
   "outputs": [],
   "source": [
    "outros"
   ]
  },
  {
   "cell_type": "code",
   "execution_count": null,
   "id": "0cdeeb8c",
   "metadata": {},
   "outputs": [],
   "source": [
    "#Filtra o dataframe/tabela de dados de resultados\n",
    "resultado1 = resultado1[resultado1[\"percentual\"]>5]"
   ]
  },
  {
   "cell_type": "code",
   "execution_count": null,
   "id": "25baaa1d",
   "metadata": {},
   "outputs": [],
   "source": [
    "#adiciona o dataframe de outras categorias e ignora o index\n",
    "resultado1 = resultado1.append(outros, ignore_index =True)"
   ]
  },
  {
   "cell_type": "code",
   "execution_count": null,
   "id": "ba1ef5a5",
   "metadata": {},
   "outputs": [],
   "source": [
    "#ordena o resultado\n",
    "resultado1 = resultado1.sort_values(by=\"COUNT\", ascending=False)"
   ]
  },
  {
   "cell_type": "code",
   "execution_count": null,
   "id": "348af071",
   "metadata": {},
   "outputs": [],
   "source": [
    "#visualiza\n",
    "resultado1.head()"
   ]
  },
  {
   "cell_type": "code",
   "execution_count": null,
   "id": "e2879a04",
   "metadata": {},
   "outputs": [],
   "source": [
    "#ajustando os labels usando listcomprehension\n",
    "labels = [str(resultado1[\"type\"][i])+ ' ' + '['+ str(round(resultado1[\"percentual\"][i],2))+ '%' + ']' for i in resultado1.index]"
   ]
  },
  {
   "cell_type": "code",
   "execution_count": null,
   "id": "4eb995c9",
   "metadata": {},
   "outputs": [],
   "source": [
    "#Plot\n",
    "\n",
    "#Mapa de Cores\n",
    "#https://matplotlib.org/stablee/tutorials/color/colormaps.html\n",
    "cs = cm.Set3(np.arange(100))\n",
    "#cria a figura\n",
    "f = plt.figure()\n",
    "#Pie Plot\n",
    "plt.pie(resultado1[\"COUNT\"], labeldistance=1,radius=3, colors = cs, wedgeprops = dict(width = 0.8))\n",
    "plt.legend(labels = labels, loc = \"center\", prop = {\"size\":12})\n",
    "plt.title(\"Distribuição de Títulos\", loc = \"center\", fontdict = {\"fontsize\":20, \"fontweight\":20})\n",
    "plt.show()"
   ]
  },
  {
   "cell_type": "markdown",
   "id": "35732fb7",
   "metadata": {},
   "source": [
    "## 2 - Qual o número de títulos por gênero? \n",
    "\n",
    "Calculando o número de filmes por gênero e entregar o resultado em valor percentual."
   ]
  },
  {
   "cell_type": "code",
   "execution_count": null,
   "id": "5ecf75e1",
   "metadata": {},
   "outputs": [],
   "source": [
    "#Criando a consulta SQL\n",
    "consulta2 = \"SELECT genres, COUNT(*) FROM titles WHERE type = 'movie' GROUP BY genres\""
   ]
  },
  {
   "cell_type": "code",
   "execution_count": null,
   "id": "88dae0ab",
   "metadata": {},
   "outputs": [],
   "source": [
    "#Aplicando a query na conexão\n",
    "resultado2 = pd.read_sql_query(consulta2,conn)"
   ]
  },
  {
   "cell_type": "code",
   "execution_count": null,
   "id": "e8710509",
   "metadata": {},
   "outputs": [],
   "source": [
    "display(resultado2)"
   ]
  },
  {
   "cell_type": "code",
   "execution_count": null,
   "id": "ab8cc7f5",
   "metadata": {},
   "outputs": [],
   "source": [
    "#padronizando os nomes dos gêneros colocando todos em minúsculo\n",
    "resultado2['genres'] = resultado2['genres'].str.lower().values"
   ]
  },
  {
   "cell_type": "code",
   "execution_count": null,
   "id": "41219dfa",
   "metadata": {},
   "outputs": [],
   "source": [
    "#descartando valores ausentes\n",
    "temp = resultado2['genres'].dropna()"
   ]
  },
  {
   "cell_type": "markdown",
   "id": "5e7cb632",
   "metadata": {},
   "source": [
    "## Usando o Countvectorize para contar o número de filmes em cada gênero"
   ]
  },
  {
   "cell_type": "code",
   "execution_count": null,
   "id": "000906a1",
   "metadata": {},
   "outputs": [],
   "source": [
    "# Criando um vetor usando uma expressão regular para filtrar as strings\n",
    "# https://docs.python.org/3.8/library/re.html\n",
    "padrao = \"(?u)\\\\b[\\\\w-]+\\\\b\"\n",
    "\n",
    "vetor = CountVectorizer(token_pattern=padrao, analyzer='word').fit(temp)"
   ]
  },
  {
   "cell_type": "code",
   "execution_count": null,
   "id": "4d146bb6",
   "metadata": {},
   "outputs": [],
   "source": [
    "type(vetor)"
   ]
  },
  {
   "cell_type": "code",
   "execution_count": null,
   "id": "3e09bc9b",
   "metadata": {},
   "outputs": [],
   "source": [
    "#aplicando a vetorização ao dataset sem os valores ausentes/NA\n",
    "bag_generos = vetor.transform(temp)"
   ]
  },
  {
   "cell_type": "code",
   "execution_count": null,
   "id": "a6c88c88",
   "metadata": {},
   "outputs": [],
   "source": [
    "type(bag_generos)"
   ]
  },
  {
   "cell_type": "code",
   "execution_count": null,
   "id": "7b40d279",
   "metadata": {},
   "outputs": [],
   "source": [
    "# retornando os gêneros únicos\n",
    "generos_uni = vetor.get_feature_names()"
   ]
  },
  {
   "cell_type": "code",
   "execution_count": null,
   "id": "c0d07cc0",
   "metadata": {},
   "outputs": [],
   "source": [
    "generos = pd.DataFrame(bag_generos.todense(), columns = generos_uni, index = temp.index)"
   ]
  },
  {
   "cell_type": "code",
   "execution_count": null,
   "id": "2c3618c4",
   "metadata": {},
   "outputs": [],
   "source": [
    "generos.info()"
   ]
  },
  {
   "cell_type": "code",
   "execution_count": null,
   "id": "c7e1f093",
   "metadata": {},
   "outputs": [],
   "source": [
    "#removendo a coluna 18\n",
    "generos = generos.drop(columns='n', axis=0)"
   ]
  },
  {
   "cell_type": "code",
   "execution_count": null,
   "id": "4e5d8dbf",
   "metadata": {},
   "outputs": [],
   "source": [
    "#calculando o percentual\n",
    "gen_percent = 100 * pd.Series(generos.sum()).sort_values(ascending=False) / generos.shape[0]"
   ]
  },
  {
   "cell_type": "code",
   "execution_count": null,
   "id": "d395cb40",
   "metadata": {},
   "outputs": [],
   "source": [
    "gen_percent.head(10)"
   ]
  },
  {
   "cell_type": "code",
   "execution_count": null,
   "id": "566dc629",
   "metadata": {},
   "outputs": [],
   "source": [
    "#Plot\n",
    "# Mostrando os dados em gráfico\n",
    "plt.figure(figsize = (16,8))\n",
    "sns.barplot(x = gen_percent.values, y = gen_percent.index, orient=\"h\", palette=\"terrain\")\n",
    "plt.ylabel(\"Gênero\")\n",
    "plt.xlabel(\"\\nPercentual de Filmes(%)\")\n",
    "plt.title(\"\\nNúmero(Percentual) de Títulos Por Gênero\\n\")\n",
    "plt.show()"
   ]
  },
  {
   "cell_type": "markdown",
   "id": "40a16dd5",
   "metadata": {},
   "source": [
    "## Qual a mediana de avaliação dos filmes por gênero?\n",
    "Mediana da avaliação dos filmess"
   ]
  },
  {
   "cell_type": "code",
   "execution_count": null,
   "id": "b2ff3679",
   "metadata": {},
   "outputs": [],
   "source": [
    "#Cunsulta SQL\n",
    "consulta3 = '''\n",
    "            SELECT rating, genres FROM ratings\n",
    "            JOIN titles ON ratings.title_id = titles.title_id\\\n",
    "            WHERE premiered <= 2022 AND type = 'movie'\n",
    "            '''"
   ]
  },
  {
   "cell_type": "code",
   "execution_count": null,
   "id": "f711d00f",
   "metadata": {},
   "outputs": [],
   "source": [
    "#resultado\n",
    "resultado3 = pd.read_sql_query(consulta3,conn)"
   ]
  },
  {
   "cell_type": "code",
   "execution_count": null,
   "id": "ea259efe",
   "metadata": {},
   "outputs": [],
   "source": [
    "display(resultado3)"
   ]
  },
  {
   "cell_type": "code",
   "execution_count": 7,
   "id": "0bd3505d",
   "metadata": {},
   "outputs": [],
   "source": [
    "#modularizando o código criando uma função para retornar os gêneros\n",
    "\n",
    "def res_generos(df):\n",
    "    df[\"genres\"] = df[\"genres\"].str.lower().values\n",
    "    temp = df[\"genres\"].dropna()\n",
    "    vetor = CountVectorizer(token_pattern=\"(?u)\\\\b[\\\\w-]+\\\\b\", analyzer=\"word\").fit(temp)\n",
    "    gen_uni = vetor.get_feature_names()\n",
    "    gen_uni = [genre for genre in gen_uni if len(genre) > 1]\n",
    "    return gen_uni"
   ]
  },
  {
   "cell_type": "code",
   "execution_count": null,
   "id": "0dc6771c",
   "metadata": {},
   "outputs": [],
   "source": [
    "gen_uni = res_generos(resultado3)"
   ]
  },
  {
   "cell_type": "code",
   "execution_count": null,
   "id": "3cd9b83d",
   "metadata": {},
   "outputs": [],
   "source": [
    "gen_uni"
   ]
  },
  {
   "cell_type": "code",
   "execution_count": null,
   "id": "94cb5115",
   "metadata": {},
   "outputs": [],
   "source": [
    "# lista filmes por gênero\n",
    "genero_counts = []\n",
    "#lista filmes por avaliação\n",
    "genero_ratings = []"
   ]
  },
  {
   "cell_type": "code",
   "execution_count": null,
   "id": "21adc8ea",
   "metadata": {},
   "outputs": [],
   "source": [
    "#customizando as buscas \n",
    "\n",
    "for item in gen_uni:\n",
    "    \n",
    "    #retorna a contagem de filmes por gênero\n",
    "    consulta = \"SELECT COUNT(rating) FROM ratings JOIN titles ON ratings.title_id=titles.title_id WHERE genres LIKE\"+ \"\\\"\"+\"%\"+item+\"%\"+\"\\\" AND type=\\'movie\\'\"\n",
    "    resultado = pd.read_sql_query(consulta, conn)\n",
    "    genero_counts.append(resultado.values[0][0])\n",
    "    \n",
    "    #retorna a avaliação de filmes por gênero\n",
    "    consulta = \"SELECT rating FROM ratings JOIN titles ON ratings.title_id=titles.title_id WHERE genres LIKE\" + \"\\\"\"+\"%\"+item+\"%\"+\"\\\" AND type=\\'movie\\'\"\n",
    "    resultado = pd.read_sql_query(consulta, conn)\n",
    "    genero_ratings.append(np.median(resultado[\"rating\"]))"
   ]
  },
  {
   "cell_type": "code",
   "execution_count": null,
   "id": "6ac10d69",
   "metadata": {},
   "outputs": [],
   "source": [
    "#Preparando o dataframe final\n",
    "df_genero_ratings = pd.DataFrame()\n",
    "df_genero_ratings[\"genres\"] = gen_uni\n",
    "df_genero_ratings[\"count\"] = genero_counts\n",
    "df_genero_ratings[\"rating\"] = genero_ratings"
   ]
  },
  {
   "cell_type": "code",
   "execution_count": null,
   "id": "b80ec2ed",
   "metadata": {},
   "outputs": [],
   "source": [
    "df_genero_ratings.head(20)"
   ]
  },
  {
   "cell_type": "code",
   "execution_count": null,
   "id": "641ba159",
   "metadata": {},
   "outputs": [],
   "source": [
    "#drop item 18 (news)\n",
    "df_genero_ratings = df_genero_ratings.drop(index=18)"
   ]
  },
  {
   "cell_type": "code",
   "execution_count": null,
   "id": "5c089b7e",
   "metadata": {},
   "outputs": [],
   "source": [
    "df_genero_ratings = df_genero_ratings.sort_values(by = \"rating\",ascending=False)"
   ]
  },
  {
   "cell_type": "code",
   "execution_count": null,
   "id": "0b67000c",
   "metadata": {},
   "outputs": [],
   "source": [
    "#Plot\n",
    "\n",
    "#figura\n",
    "plt.figure(figsize=(16,20))\n",
    "\n",
    "#Barplot\n",
    "\n",
    "sns.barplot(y = df_genero_ratings.genres, x = df_genero_ratings.rating, orient = \"h\")\n",
    "\n",
    "#textos dos gráficos\n",
    "\n",
    "for i in range(len(df_genero_ratings.index)):\n",
    "    \n",
    "    plt.text(4.0, i + 0.25, str(df_genero_ratings[\"count\"][df_genero_ratings.index[i]]) + \" filmes\")\n",
    "    \n",
    "    plt.text(df_genero_ratings.rating[df_genero_ratings.index[i]], i + 0.25, round(df_genero_ratings[\"rating\"][df_genero_ratings.index[i]],2))\n",
    "\n",
    "\n",
    "plt.xlabel(\"Gênero\")\n",
    "plt.ylabel(\"Avaliação\")\n",
    "plt.title(\"\\nMediana de Avaliação por Gênero\\n\")\n",
    "plt.show()"
   ]
  },
  {
   "cell_type": "markdown",
   "id": "e2a05002",
   "metadata": {},
   "source": [
    "## Qual a mediana de avaliação dos filmes em relação ao ano de estreia?\n",
    "mediana de avaliação dos filmes"
   ]
  },
  {
   "cell_type": "code",
   "execution_count": null,
   "id": "a87bb03c",
   "metadata": {},
   "outputs": [],
   "source": [
    "consulta4 = \"\"\"\n",
    "            SELECT rating AS Rating, premiered FROM ratings \n",
    "            JOIN titles ON ratings.title_id = titles.title_id\n",
    "            WHERE premiered <= 2022 AND type='movie'\n",
    "            ORDER BY premiered\n",
    "            \"\"\""
   ]
  },
  {
   "cell_type": "code",
   "execution_count": null,
   "id": "17d38ac9",
   "metadata": {},
   "outputs": [],
   "source": [
    "resultado4 = pd.read_sql_query(consulta4, conn)"
   ]
  },
  {
   "cell_type": "code",
   "execution_count": null,
   "id": "bcbba041",
   "metadata": {},
   "outputs": [],
   "source": [
    "display(resultado4)"
   ]
  },
  {
   "cell_type": "code",
   "execution_count": null,
   "id": "24d9288e",
   "metadata": {},
   "outputs": [],
   "source": [
    "### mediana para cada ano\n",
    "ratings = []\n",
    "for ano in set(resultado4[\"premiered\"]):\n",
    "    ratings.append(np.median(resultado4[resultado4[\"premiered\"] == ano][\"Rating\"]))"
   ]
  },
  {
   "cell_type": "code",
   "execution_count": null,
   "id": "14cde28c",
   "metadata": {},
   "outputs": [],
   "source": [
    "type(ratings)"
   ]
  },
  {
   "cell_type": "code",
   "execution_count": null,
   "id": "e7e198f0",
   "metadata": {},
   "outputs": [],
   "source": [
    "ratings[1:10]"
   ]
  },
  {
   "cell_type": "code",
   "execution_count": null,
   "id": "3bb257ce",
   "metadata": {},
   "outputs": [],
   "source": [
    "anos = list(set(resultado4[\"premiered\"]))"
   ]
  },
  {
   "cell_type": "code",
   "execution_count": null,
   "id": "2cf498d0",
   "metadata": {},
   "outputs": [],
   "source": [
    "anos[1:10]"
   ]
  },
  {
   "cell_type": "code",
   "execution_count": null,
   "id": "18321749",
   "metadata": {},
   "outputs": [],
   "source": [
    "#Plot\n",
    "\n",
    "plt.figure(figsize=(16,9))\n",
    "plt.plot(anos, ratings)\n",
    "plt.xlabel(\"\\nAno\")\n",
    "plt.ylabel(\"Mediana de Avaliação\")\n",
    "plt.title(\"Mediana de Avaliação dos Filmes Em Relação ao Ano de Lançamento\\n\")\n",
    "plt.show()"
   ]
  },
  {
   "cell_type": "markdown",
   "id": "1a448f31",
   "metadata": {},
   "source": [
    "## Qual o número de filmes avaliados por gênero em relação ao ano de estreia?\n",
    "Top 5 filmes avaliados pelo gênero"
   ]
  },
  {
   "cell_type": "code",
   "execution_count": 3,
   "id": "f6dfbf13",
   "metadata": {},
   "outputs": [],
   "source": [
    "consulta5 = \"SELECT genres FROM titles\""
   ]
  },
  {
   "cell_type": "code",
   "execution_count": 4,
   "id": "6e06ce83",
   "metadata": {},
   "outputs": [],
   "source": [
    "resultado5 = pd.read_sql_query(consulta5, conn)"
   ]
  },
  {
   "cell_type": "code",
   "execution_count": 5,
   "id": "bc7e40d0",
   "metadata": {},
   "outputs": [
    {
     "data": {
      "text/html": [
       "<div>\n",
       "<style scoped>\n",
       "    .dataframe tbody tr th:only-of-type {\n",
       "        vertical-align: middle;\n",
       "    }\n",
       "\n",
       "    .dataframe tbody tr th {\n",
       "        vertical-align: top;\n",
       "    }\n",
       "\n",
       "    .dataframe thead th {\n",
       "        text-align: right;\n",
       "    }\n",
       "</style>\n",
       "<table border=\"1\" class=\"dataframe\">\n",
       "  <thead>\n",
       "    <tr style=\"text-align: right;\">\n",
       "      <th></th>\n",
       "      <th>genres</th>\n",
       "    </tr>\n",
       "  </thead>\n",
       "  <tbody>\n",
       "    <tr>\n",
       "      <th>0</th>\n",
       "      <td>Documentary,Short</td>\n",
       "    </tr>\n",
       "    <tr>\n",
       "      <th>1</th>\n",
       "      <td>Animation,Short</td>\n",
       "    </tr>\n",
       "    <tr>\n",
       "      <th>2</th>\n",
       "      <td>Animation,Comedy,Romance</td>\n",
       "    </tr>\n",
       "    <tr>\n",
       "      <th>3</th>\n",
       "      <td>Animation,Short</td>\n",
       "    </tr>\n",
       "    <tr>\n",
       "      <th>4</th>\n",
       "      <td>Comedy,Short</td>\n",
       "    </tr>\n",
       "    <tr>\n",
       "      <th>...</th>\n",
       "      <td>...</td>\n",
       "    </tr>\n",
       "    <tr>\n",
       "      <th>8166346</th>\n",
       "      <td>Action,Drama,Family</td>\n",
       "    </tr>\n",
       "    <tr>\n",
       "      <th>8166347</th>\n",
       "      <td>Action,Drama,Family</td>\n",
       "    </tr>\n",
       "    <tr>\n",
       "      <th>8166348</th>\n",
       "      <td>Action,Drama,Family</td>\n",
       "    </tr>\n",
       "    <tr>\n",
       "      <th>8166349</th>\n",
       "      <td>Short</td>\n",
       "    </tr>\n",
       "    <tr>\n",
       "      <th>8166350</th>\n",
       "      <td>Animation,Comedy,Family</td>\n",
       "    </tr>\n",
       "  </tbody>\n",
       "</table>\n",
       "<p>8166351 rows × 1 columns</p>\n",
       "</div>"
      ],
      "text/plain": [
       "                           genres\n",
       "0               Documentary,Short\n",
       "1                 Animation,Short\n",
       "2        Animation,Comedy,Romance\n",
       "3                 Animation,Short\n",
       "4                    Comedy,Short\n",
       "...                           ...\n",
       "8166346       Action,Drama,Family\n",
       "8166347       Action,Drama,Family\n",
       "8166348       Action,Drama,Family\n",
       "8166349                     Short\n",
       "8166350   Animation,Comedy,Family\n",
       "\n",
       "[8166351 rows x 1 columns]"
      ]
     },
     "metadata": {},
     "output_type": "display_data"
    }
   ],
   "source": [
    "display(resultado5)"
   ]
  },
  {
   "cell_type": "code",
   "execution_count": 8,
   "id": "cec88e0b",
   "metadata": {},
   "outputs": [],
   "source": [
    "generos_unicos = res_generos(resultado5)"
   ]
  },
  {
   "cell_type": "code",
   "execution_count": null,
   "id": "56628027",
   "metadata": {},
   "outputs": [],
   "source": []
  },
  {
   "cell_type": "code",
   "execution_count": 9,
   "id": "c87a3d9f",
   "metadata": {},
   "outputs": [
    {
     "data": {
      "text/plain": [
       "['action',\n",
       " 'adult',\n",
       " 'adventure',\n",
       " 'animation',\n",
       " 'biography',\n",
       " 'comedy',\n",
       " 'crime',\n",
       " 'documentary',\n",
       " 'drama',\n",
       " 'family',\n",
       " 'fantasy',\n",
       " 'film-noir',\n",
       " 'game-show',\n",
       " 'history',\n",
       " 'horror',\n",
       " 'music',\n",
       " 'musical',\n",
       " 'mystery',\n",
       " 'news',\n",
       " 'reality-tv',\n",
       " 'romance',\n",
       " 'sci-fi',\n",
       " 'short',\n",
       " 'sport',\n",
       " 'talk-show',\n",
       " 'thriller',\n",
       " 'war',\n",
       " 'western']"
      ]
     },
     "execution_count": 9,
     "metadata": {},
     "output_type": "execute_result"
    }
   ],
   "source": [
    "generos_unicos"
   ]
  },
  {
   "cell_type": "code",
   "execution_count": 23,
   "id": "14382977",
   "metadata": {},
   "outputs": [],
   "source": [
    "genero_count = []\n",
    "for item in generos_unicos:\n",
    "    consulta = \"SELECT COUNT(*) COUNT FROM titles WHERE genres LIKE \"+ \"\\\"\"+\"%\"+item+\"%\"+\"\\\"AND type=\\'movie\\' AND premiered <= 2022\"\n",
    "    resultado = pd.read_sql_query(consulta, conn)\n",
    "    genero_count.append(resultado[\"COUNT\"].values[0])"
   ]
  },
  {
   "cell_type": "code",
   "execution_count": 24,
   "id": "a07f1968",
   "metadata": {},
   "outputs": [],
   "source": [
    "#preparando o dataframe\n",
    "df_genero_count = pd.DataFrame()\n",
    "df_genero_count[\"genre\"] = generos_unicos\n",
    "df_genero_count[\"Count\"] = genero_count"
   ]
  },
  {
   "cell_type": "code",
   "execution_count": 25,
   "id": "2d0740ad",
   "metadata": {},
   "outputs": [],
   "source": [
    "#TOP 5\n",
    "df_genero_count = df_genero_count[df_genero_count[\"genre\"] != \"n\"]\n",
    "df_genero_count = df_genero_count.sort_values(by=\"Count\",ascending=False)\n",
    "top_generos = df_genero_count.head()[\"genre\"].values"
   ]
  },
  {
   "cell_type": "code",
   "execution_count": 26,
   "id": "a236a9cd",
   "metadata": {},
   "outputs": [
    {
     "data": {
      "image/png": "[encoded data removed]",
      "text/plain": [
       "<Figure size 1152x576 with 1 Axes>"
      ]
     },
     "metadata": {},
     "output_type": "display_data"
    }
   ],
   "source": [
    "#plot\n",
    "plt.figure(figsize=(16,8))\n",
    "\n",
    "for item in top_generos:\n",
    "    consulta = \"SELECT COUNT(*) Number_of_movies, premiered Year FROM titles WHERE genres LIKE\"+ \"\\\"\"+\"%\"+item+\"%\"+\"\\\"AND type=\\'movie\\' AND premiered <= 2022\"\n",
    "    resultado = pd.read_sql_query(consulta, conn)\n",
    "    plt.plot(resultado[\"Year\"], resultado[\"Number_of_movies\"])\n",
    "\n",
    "\n",
    "plt.xlabel(\"\\nAno\")\n",
    "plt.ylabel(\"Número de Filmes Avaliados\")\n",
    "plt.title(\"\\nNúmero de Filmes Avaliados Por Gênero Em Relação ao Ano de Estréia\\n\")\n",
    "plt.legend(labels=top_generos)\n",
    "plt.show()"
   ]
  },
  {
   "cell_type": "code",
   "execution_count": null,
   "id": "a8353a4e",
   "metadata": {},
   "outputs": [],
   "source": []
  },
  {
   "cell_type": "code",
   "execution_count": null,
   "id": "aa610161",
   "metadata": {},
   "outputs": [],
   "source": []
  }
 ],
 "metadata": {
  "kernelspec": {
   "display_name": "Python 3",
   "language": "python",
   "name": "python3"
  },
  "language_info": {
   "codemirror_mode": {
    "name": "ipython",
    "version": 3
   },
   "file_extension": ".py",
   "mimetype": "text/x-python",
   "name": "python",
   "nbconvert_exporter": "python",
   "pygments_lexer": "ipython3",
   "version": "3.8.8"
  }
 },
 "nbformat": 4,
 "nbformat_minor": 5
}
