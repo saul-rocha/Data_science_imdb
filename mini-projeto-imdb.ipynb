{
 "cells": [
  {
   "cell_type": "code",
   "execution_count": null,
   "id": "cf77ca68",
   "metadata": {},
   "outputs": [],
   "source": [
    "#instala o pacote imdb\n",
    "!pip install -q imdb-sqlite"
   ]
  },
  {
   "cell_type": "code",
   "execution_count": null,
   "id": "f9642857",
   "metadata": {},
   "outputs": [],
   "source": [
    "#instala o pacote \n",
    "#https://pypi.org/project/pycountry/\n",
    "!pip install -q pycountry"
   ]
  },
  {
   "cell_type": "code",
   "execution_count": 1,
   "id": "2c7db006",
   "metadata": {},
   "outputs": [],
   "source": [
    "import re\n",
    "import time\n",
    "import sqlite3\n",
    "import pycountry\n",
    "import numpy as np\n",
    "import pandas as pd\n",
    "import matplotlib.pyplot as plt\n",
    "import seaborn as sns\n",
    "from matplotlib import cm\n",
    "from sklearn.feature_extraction.text import CountVectorizer\n",
    "import warnings\n",
    "warnings.filterwarnings(\"ignore\")\n",
    "sns.set_theme(style=\"whitegrid\")"
   ]
  },
  {
   "cell_type": "code",
   "execution_count": null,
   "id": "b0547d8e",
   "metadata": {},
   "outputs": [],
   "source": [
    "##baixa o banco de dados do IMDB\n",
    "## aguarde baixar tudo (maximo e aproximadamente 40min, dependendo da sua conexão e hardware)\n",
    "%%time\n",
    "!imdb-sqlite"
   ]
  },
  {
   "cell_type": "code",
   "execution_count": 2,
   "id": "91c2e6a5",
   "metadata": {},
   "outputs": [],
   "source": [
    "##conectando a banco de dados\n",
    "conn = sqlite3.connect(\"imdb.db\")"
   ]
  },
  {
   "cell_type": "code",
   "execution_count": null,
   "id": "4f56d2cd",
   "metadata": {},
   "outputs": [],
   "source": [
    "#extrai a lista de tabelas\n",
    "tabelas = pd.read_sql_query(\"SELECT NAME AS 'Table_name' FROM sqlite_master WHERE type='table'\", conn)"
   ]
  },
  {
   "cell_type": "code",
   "execution_count": null,
   "id": "df0b4afd",
   "metadata": {},
   "outputs": [],
   "source": [
    "tabelas.head()"
   ]
  },
  {
   "cell_type": "code",
   "execution_count": null,
   "id": "3fd81666",
   "metadata": {},
   "outputs": [],
   "source": [
    "#convertendo dataframe em lista\n",
    "tabelas = tabelas[\"Table_name\"].values.tolist()"
   ]
  },
  {
   "cell_type": "code",
   "execution_count": null,
   "id": "0354867a",
   "metadata": {},
   "outputs": [],
   "source": [
    "for tabela in tabelas:\n",
    "    consulta = \"PRAGMA TABLE_INFO({})\".format(tabela)\n",
    "    resultado = pd.read_sql_query(consulta,conn)\n",
    "    print(\"Esquema da tabela:\", tabela)\n",
    "    display(resultado)\n",
    "    print(\"-\"*100)\n",
    "    print(\"\\n\")"
   ]
  },
  {
   "cell_type": "markdown",
   "id": "8597e393",
   "metadata": {},
   "source": [
    "Análise Exploratória de Dados"
   ]
  },
  {
   "cell_type": "markdown",
   "id": "90ebdc21",
   "metadata": {},
   "source": [
    "## 1 - Quais são as categorias de filmes mais comuns no imdb?\n",
    "Quais são os principais tipos(categorias) dos titulos(filmes)?"
   ]
  },
  {
   "cell_type": "code",
   "execution_count": null,
   "id": "32d03583",
   "metadata": {},
   "outputs": [],
   "source": [
    "#Cria Consulta SQL\n",
    "consulta1 = \"SELECT type, COUNT(*) AS COUNT FROM titles GROUP BY type\""
   ]
  },
  {
   "cell_type": "code",
   "execution_count": null,
   "id": "e642822e",
   "metadata": {},
   "outputs": [],
   "source": [
    "#Extraindo o resultado\n",
    "resultado1 = pd.read_sql_query(consulta1, conn)"
   ]
  },
  {
   "cell_type": "code",
   "execution_count": null,
   "id": "c340fa17",
   "metadata": {},
   "outputs": [],
   "source": [
    "display(resultado1)"
   ]
  },
  {
   "cell_type": "code",
   "execution_count": null,
   "id": "bea9d4d8",
   "metadata": {},
   "outputs": [],
   "source": [
    "#Percentual de cada tipo\n",
    "resultado1[\"percentual\"] = (resultado1[\"COUNT\"] / resultado1[\"COUNT\"].sum())*100"
   ]
  },
  {
   "cell_type": "code",
   "execution_count": null,
   "id": "da6954ab",
   "metadata": {},
   "outputs": [],
   "source": [
    "display(resultado1)"
   ]
  },
  {
   "cell_type": "code",
   "execution_count": null,
   "id": "06948ba8",
   "metadata": {},
   "outputs": [],
   "source": [
    "#apresentando o resultado em gŕafico\n",
    "outros = {}\n",
    "\n",
    "\n",
    "#filtra o percentual em 5% e soma o total\n",
    "outros[\"COUNT\"] = resultado1[resultado1[\"percentual\"] < 5][\"COUNT\"].sum()\n",
    "\n",
    "#Gravando o percentual\n",
    "outros[\"percentual\"] = resultado1[resultado1[\"percentual\"] < 5][\"percentual\"].sum()\n",
    "\n",
    "outros[\"type\"] = \"outros\"\n"
   ]
  },
  {
   "cell_type": "code",
   "execution_count": null,
   "id": "c4a8416c",
   "metadata": {},
   "outputs": [],
   "source": [
    "outros"
   ]
  },
  {
   "cell_type": "code",
   "execution_count": null,
   "id": "0cdeeb8c",
   "metadata": {},
   "outputs": [],
   "source": [
    "#Filtra o dataframe/tabela de dados de resultados\n",
    "resultado1 = resultado1[resultado1[\"percentual\"]>5]"
   ]
  },
  {
   "cell_type": "code",
   "execution_count": null,
   "id": "25baaa1d",
   "metadata": {},
   "outputs": [],
   "source": [
    "#adiciona o dataframe de outras categorias e ignora o index\n",
    "resultado1 = resultado1.append(outros, ignore_index =True)"
   ]
  },
  {
   "cell_type": "code",
   "execution_count": null,
   "id": "ba1ef5a5",
   "metadata": {},
   "outputs": [],
   "source": [
    "#ordena o resultado\n",
    "resultado1 = resultado1.sort_values(by=\"COUNT\", ascending=False)"
   ]
  },
  {
   "cell_type": "code",
   "execution_count": null,
   "id": "348af071",
   "metadata": {},
   "outputs": [],
   "source": [
    "#visualiza\n",
    "resultado1.head()"
   ]
  },
  {
   "cell_type": "code",
   "execution_count": null,
   "id": "e2879a04",
   "metadata": {},
   "outputs": [],
   "source": [
    "#ajustando os labels usando listcomprehension\n",
    "labels = [str(resultado1[\"type\"][i])+ ' ' + '['+ str(round(resultado1[\"percentual\"][i],2))+ '%' + ']' for i in resultado1.index]"
   ]
  },
  {
   "cell_type": "code",
   "execution_count": null,
   "id": "4eb995c9",
   "metadata": {},
   "outputs": [],
   "source": [
    "#Plot\n",
    "\n",
    "#Mapa de Cores\n",
    "#https://matplotlib.org/stablee/tutorials/color/colormaps.html\n",
    "cs = cm.Set3(np.arange(100))\n",
    "#cria a figura\n",
    "f = plt.figure()\n",
    "#Pie Plot\n",
    "plt.pie(resultado1[\"COUNT\"], labeldistance=1,radius=3, colors = cs, wedgeprops = dict(width = 0.8))\n",
    "plt.legend(labels = labels, loc = \"center\", prop = {\"size\":12})\n",
    "plt.title(\"Distribuição de Títulos\", loc = \"center\", fontdict = {\"fontsize\":20, \"fontweight\":20})\n",
    "plt.show()"
   ]
  },
  {
   "cell_type": "markdown",
   "id": "35732fb7",
   "metadata": {},
   "source": [
    "## 2 - Qual o número de títulos por gênero? \n",
    "\n",
    "Calculando o número de filmes por gênero e entregar o resultado em valor percentual."
   ]
  },
  {
   "cell_type": "code",
   "execution_count": null,
   "id": "5ecf75e1",
   "metadata": {},
   "outputs": [],
   "source": [
    "#Criando a consulta SQL\n",
    "consulta2 = \"SELECT genres, COUNT(*) FROM titles WHERE type = 'movie' GROUP BY genres\""
   ]
  },
  {
   "cell_type": "code",
   "execution_count": null,
   "id": "88dae0ab",
   "metadata": {},
   "outputs": [],
   "source": [
    "#Aplicando a query na conexão\n",
    "resultado2 = pd.read_sql_query(consulta2,conn)"
   ]
  },
  {
   "cell_type": "code",
   "execution_count": null,
   "id": "e8710509",
   "metadata": {},
   "outputs": [],
   "source": [
    "display(resultado2)"
   ]
  },
  {
   "cell_type": "code",
   "execution_count": null,
   "id": "ab8cc7f5",
   "metadata": {},
   "outputs": [],
   "source": [
    "#padronizando os nomes dos gêneros colocando todos em minúsculo\n",
    "resultado2['genres'] = resultado2['genres'].str.lower().values"
   ]
  },
  {
   "cell_type": "code",
   "execution_count": null,
   "id": "41219dfa",
   "metadata": {},
   "outputs": [],
   "source": [
    "#descartando valores ausentes\n",
    "temp = resultado2['genres'].dropna()"
   ]
  },
  {
   "cell_type": "markdown",
   "id": "5e7cb632",
   "metadata": {},
   "source": [
    "## Usando o Countvectorize para contar o número de filmes em cada gênero"
   ]
  },
  {
   "cell_type": "code",
   "execution_count": null,
   "id": "000906a1",
   "metadata": {},
   "outputs": [],
   "source": [
    "# Criando um vetor usando uma expressão regular para filtrar as strings\n",
    "# https://docs.python.org/3.8/library/re.html\n",
    "padrao = \"(?u)\\\\b[\\\\w-]+\\\\b\"\n",
    "\n",
    "vetor = CountVectorizer(token_pattern=padrao, analyzer='word').fit(temp)"
   ]
  },
  {
   "cell_type": "code",
   "execution_count": null,
   "id": "4d146bb6",
   "metadata": {},
   "outputs": [],
   "source": [
    "type(vetor)"
   ]
  },
  {
   "cell_type": "code",
   "execution_count": null,
   "id": "3e09bc9b",
   "metadata": {},
   "outputs": [],
   "source": [
    "#aplicando a vetorização ao dataset sem os valores ausentes/NA\n",
    "bag_generos = vetor.transform(temp)"
   ]
  },
  {
   "cell_type": "code",
   "execution_count": null,
   "id": "a6c88c88",
   "metadata": {},
   "outputs": [],
   "source": [
    "type(bag_generos)"
   ]
  },
  {
   "cell_type": "code",
   "execution_count": null,
   "id": "7b40d279",
   "metadata": {},
   "outputs": [],
   "source": [
    "# retornando os gêneros únicos\n",
    "generos_uni = vetor.get_feature_names()"
   ]
  },
  {
   "cell_type": "code",
   "execution_count": null,
   "id": "c0d07cc0",
   "metadata": {},
   "outputs": [],
   "source": [
    "generos = pd.DataFrame(bag_generos.todense(), columns = generos_uni, index = temp.index)"
   ]
  },
  {
   "cell_type": "code",
   "execution_count": null,
   "id": "2c3618c4",
   "metadata": {},
   "outputs": [],
   "source": [
    "generos.info()"
   ]
  },
  {
   "cell_type": "code",
   "execution_count": null,
   "id": "c7e1f093",
   "metadata": {},
   "outputs": [],
   "source": [
    "#removendo a coluna 18\n",
    "generos = generos.drop(columns='n', axis=0)"
   ]
  },
  {
   "cell_type": "code",
   "execution_count": null,
   "id": "4e5d8dbf",
   "metadata": {},
   "outputs": [],
   "source": [
    "#calculando o percentual\n",
    "gen_percent = 100 * pd.Series(generos.sum()).sort_values(ascending=False) / generos.shape[0]"
   ]
  },
  {
   "cell_type": "code",
   "execution_count": null,
   "id": "d395cb40",
   "metadata": {},
   "outputs": [],
   "source": [
    "gen_percent.head(10)"
   ]
  },
  {
   "cell_type": "code",
   "execution_count": null,
   "id": "566dc629",
   "metadata": {},
   "outputs": [],
   "source": [
    "#Plot\n",
    "# Mostrando os dados em gráfico\n",
    "plt.figure(figsize = (16,8))\n",
    "sns.barplot(x = gen_percent.values, y = gen_percent.index, orient=\"h\", palette=\"terrain\")\n",
    "plt.ylabel(\"Gênero\")\n",
    "plt.xlabel(\"\\nPercentual de Filmes(%)\")\n",
    "plt.title(\"\\nNúmero(Percentual) de Títulos Por Gênero\\n\")\n",
    "plt.show()"
   ]
  },
  {
   "cell_type": "markdown",
   "id": "40a16dd5",
   "metadata": {},
   "source": [
    "## Qual a mediana de avaliação dos filmes por gênero?\n",
    "Mediana da avaliação dos filmess"
   ]
  },
  {
   "cell_type": "code",
   "execution_count": null,
   "id": "b2ff3679",
   "metadata": {},
   "outputs": [],
   "source": [
    "#Cunsulta SQL\n",
    "consulta3 = '''\n",
    "            SELECT rating, genres FROM ratings\n",
    "            JOIN titles ON ratings.title_id = titles.title_id\\\n",
    "            WHERE premiered <= 2022 AND type = 'movie'\n",
    "            '''"
   ]
  },
  {
   "cell_type": "code",
   "execution_count": null,
   "id": "f711d00f",
   "metadata": {},
   "outputs": [],
   "source": [
    "#resultado\n",
    "resultado3 = pd.read_sql_query(consulta3,conn)"
   ]
  },
  {
   "cell_type": "code",
   "execution_count": null,
   "id": "ea259efe",
   "metadata": {},
   "outputs": [],
   "source": [
    "display(resultado3)"
   ]
  },
  {
   "cell_type": "code",
   "execution_count": null,
   "id": "0bd3505d",
   "metadata": {},
   "outputs": [],
   "source": [
    "#modularizando o código criando uma função para retornar os gêneros\n",
    "\n",
    "def res_generos(df):\n",
    "    df[\"genres\"] = df[\"genres\"].str.lower().values\n",
    "    temp = df[\"genres\"].dropna()\n",
    "    vetor = CountVectorizer(token_pattern=\"(?u)\\\\b[\\\\w-]+\\\\b\", analyzer=\"word\").fit(temp)\n",
    "    gen_uni = vetor.get_feature_names()\n",
    "    gen_uni = [genre for genre in gen_uni if len(genre) > 1]\n",
    "    return gen_uni"
   ]
  },
  {
   "cell_type": "code",
   "execution_count": null,
   "id": "0dc6771c",
   "metadata": {},
   "outputs": [],
   "source": [
    "gen_uni = res_generos(resultado3)"
   ]
  },
  {
   "cell_type": "code",
   "execution_count": null,
   "id": "3cd9b83d",
   "metadata": {},
   "outputs": [],
   "source": [
    "gen_uni"
   ]
  },
  {
   "cell_type": "code",
   "execution_count": null,
   "id": "94cb5115",
   "metadata": {},
   "outputs": [],
   "source": [
    "# lista filmes por gênero\n",
    "genero_counts = []\n",
    "#lista filmes por avaliação\n",
    "genero_ratings = []"
   ]
  },
  {
   "cell_type": "code",
   "execution_count": null,
   "id": "21adc8ea",
   "metadata": {},
   "outputs": [],
   "source": [
    "#customizando as buscas \n",
    "\n",
    "for item in gen_uni:\n",
    "    \n",
    "    #retorna a contagem de filmes por gênero\n",
    "    consulta = \"SELECT COUNT(rating) FROM ratings JOIN titles ON ratings.title_id=titles.title_id WHERE genres LIKE\"+ \"\\\"\"+\"%\"+item+\"%\"+\"\\\" AND type=\\'movie\\'\"\n",
    "    resultado = pd.read_sql_query(consulta, conn)\n",
    "    genero_counts.append(resultado.values[0][0])\n",
    "    \n",
    "    #retorna a avaliação de filmes por gênero\n",
    "    consulta = \"SELECT rating FROM ratings JOIN titles ON ratings.title_id=titles.title_id WHERE genres LIKE\" + \"\\\"\"+\"%\"+item+\"%\"+\"\\\" AND type=\\'movie\\'\"\n",
    "    resultado = pd.read_sql_query(consulta, conn)\n",
    "    genero_ratings.append(np.median(resultado[\"rating\"]))"
   ]
  },
  {
   "cell_type": "code",
   "execution_count": null,
   "id": "6ac10d69",
   "metadata": {},
   "outputs": [],
   "source": [
    "#Preparando o dataframe final\n",
    "df_genero_ratings = pd.DataFrame()\n",
    "df_genero_ratings[\"genres\"] = gen_uni\n",
    "df_genero_ratings[\"count\"] = genero_counts\n",
    "df_genero_ratings[\"rating\"] = genero_ratings"
   ]
  },
  {
   "cell_type": "code",
   "execution_count": null,
   "id": "b80ec2ed",
   "metadata": {},
   "outputs": [],
   "source": [
    "df_genero_ratings.head(20)"
   ]
  },
  {
   "cell_type": "code",
   "execution_count": null,
   "id": "641ba159",
   "metadata": {},
   "outputs": [],
   "source": [
    "#drop item 18 (news)\n",
    "df_genero_ratings = df_genero_ratings.drop(index=18)"
   ]
  },
  {
   "cell_type": "code",
   "execution_count": null,
   "id": "5c089b7e",
   "metadata": {},
   "outputs": [],
   "source": [
    "df_genero_ratings = df_genero_ratings.sort_values(by = \"rating\",ascending=False)"
   ]
  },
  {
   "cell_type": "code",
   "execution_count": null,
   "id": "0b67000c",
   "metadata": {},
   "outputs": [],
   "source": [
    "#Plot\n",
    "\n",
    "#figura\n",
    "plt.figure(figsize=(16,20))\n",
    "\n",
    "#Barplot\n",
    "\n",
    "sns.barplot(y = df_genero_ratings.genres, x = df_genero_ratings.rating, orient = \"h\")\n",
    "\n",
    "#textos dos gráficos\n",
    "\n",
    "for i in range(len(df_genero_ratings.index)):\n",
    "    \n",
    "    plt.text(4.0, i + 0.25, str(df_genero_ratings[\"count\"][df_genero_ratings.index[i]]) + \" filmes\")\n",
    "    \n",
    "    plt.text(df_genero_ratings.rating[df_genero_ratings.index[i]], i + 0.25, round(df_genero_ratings[\"rating\"][df_genero_ratings.index[i]],2))\n",
    "\n",
    "\n",
    "plt.xlabel(\"Gênero\")\n",
    "plt.ylabel(\"Avaliação\")\n",
    "plt.title(\"\\nMediana de Avaliação por Gênero\\n\")\n",
    "plt.show()"
   ]
  },
  {
   "cell_type": "markdown",
   "id": "e2a05002",
   "metadata": {},
   "source": [
    "## Qual a mediana de avaliação dos filmes em relação ao ano de estreia?\n",
    "mediana de avaliação dos filmes"
   ]
  },
  {
   "cell_type": "code",
   "execution_count": null,
   "id": "a87bb03c",
   "metadata": {},
   "outputs": [],
   "source": [
    "consulta4 = \"\"\"\n",
    "            SELECT rating AS Rating, premiered FROM ratings \n",
    "            JOIN titles ON ratings.title_id = titles.title_id\n",
    "            WHERE premiered <= 2022 AND type='movie'\n",
    "            ORDER BY premiered\n",
    "            \"\"\""
   ]
  },
  {
   "cell_type": "code",
   "execution_count": null,
   "id": "17d38ac9",
   "metadata": {},
   "outputs": [],
   "source": [
    "resultado4 = pd.read_sql_query(consulta4, conn)"
   ]
  },
  {
   "cell_type": "code",
   "execution_count": null,
   "id": "bcbba041",
   "metadata": {},
   "outputs": [],
   "source": [
    "display(resultado4)"
   ]
  },
  {
   "cell_type": "code",
   "execution_count": null,
   "id": "24d9288e",
   "metadata": {},
   "outputs": [],
   "source": [
    "### mediana para cada ano\n",
    "ratings = []\n",
    "for ano in set(resultado4[\"premiered\"]):\n",
    "    ratings.append(np.median(resultado4[resultado4[\"premiered\"] == ano][\"Rating\"]))"
   ]
  },
  {
   "cell_type": "code",
   "execution_count": null,
   "id": "14cde28c",
   "metadata": {},
   "outputs": [],
   "source": [
    "type(ratings)"
   ]
  },
  {
   "cell_type": "code",
   "execution_count": null,
   "id": "e7e198f0",
   "metadata": {},
   "outputs": [],
   "source": [
    "ratings[1:10]"
   ]
  },
  {
   "cell_type": "code",
   "execution_count": null,
   "id": "3bb257ce",
   "metadata": {},
   "outputs": [],
   "source": [
    "anos = list(set(resultado4[\"premiered\"]))"
   ]
  },
  {
   "cell_type": "code",
   "execution_count": null,
   "id": "2cf498d0",
   "metadata": {},
   "outputs": [],
   "source": [
    "anos[1:10]"
   ]
  },
  {
   "cell_type": "code",
   "execution_count": null,
   "id": "18321749",
   "metadata": {},
   "outputs": [],
   "source": [
    "#Plot\n",
    "\n",
    "plt.figure(figsize=(16,9))\n",
    "plt.plot(anos, ratings)\n",
    "plt.xlabel(\"\\nAno\")\n",
    "plt.ylabel(\"Mediana de Avaliação\")\n",
    "plt.title(\"Mediana de Avaliação dos Filmes Em Relação ao Ano de Lançamento\\n\")\n",
    "plt.show()"
   ]
  },
  {
   "cell_type": "markdown",
   "id": "1a448f31",
   "metadata": {},
   "source": [
    "## Qual o número de filmes avaliados por gênero em relação ao ano de estreia?\n",
    "Top 5 filmes avaliados pelo gênero"
   ]
  },
  {
   "cell_type": "code",
   "execution_count": null,
   "id": "f6dfbf13",
   "metadata": {},
   "outputs": [],
   "source": [
    "consulta5 = \"SELECT genres FROM titles\""
   ]
  },
  {
   "cell_type": "code",
   "execution_count": null,
   "id": "6e06ce83",
   "metadata": {},
   "outputs": [],
   "source": [
    "resultado5 = pd.read_sql_query(consulta5, conn)"
   ]
  },
  {
   "cell_type": "code",
   "execution_count": null,
   "id": "bc7e40d0",
   "metadata": {},
   "outputs": [],
   "source": [
    "display(resultado5)"
   ]
  },
  {
   "cell_type": "code",
   "execution_count": null,
   "id": "cec88e0b",
   "metadata": {},
   "outputs": [],
   "source": [
    "generos_unicos = res_generos(resultado5)"
   ]
  },
  {
   "cell_type": "code",
   "execution_count": null,
   "id": "56628027",
   "metadata": {},
   "outputs": [],
   "source": []
  },
  {
   "cell_type": "code",
   "execution_count": null,
   "id": "c87a3d9f",
   "metadata": {},
   "outputs": [],
   "source": [
    "generos_unicos"
   ]
  },
  {
   "cell_type": "code",
   "execution_count": null,
   "id": "14382977",
   "metadata": {},
   "outputs": [],
   "source": [
    "genero_count = []\n",
    "for item in generos_unicos:\n",
    "    consulta = \"SELECT COUNT(*) COUNT FROM titles WHERE genres LIKE \"+ \"\\\"\"+\"%\"+item+\"%\"+\"\\\"AND type=\\'movie\\' AND premiered <= 2022\"\n",
    "    resultado = pd.read_sql_query(consulta, conn)\n",
    "    genero_count.append(resultado[\"COUNT\"].values[0])"
   ]
  },
  {
   "cell_type": "code",
   "execution_count": null,
   "id": "a07f1968",
   "metadata": {},
   "outputs": [],
   "source": [
    "#preparando o dataframe\n",
    "df_genero_count = pd.DataFrame()\n",
    "df_genero_count[\"genre\"] = generos_unicos\n",
    "df_genero_count[\"Count\"] = genero_count"
   ]
  },
  {
   "cell_type": "code",
   "execution_count": null,
   "id": "2d0740ad",
   "metadata": {},
   "outputs": [],
   "source": [
    "#TOP 5\n",
    "df_genero_count = df_genero_count[df_genero_count[\"genre\"] != \"n\"]\n",
    "df_genero_count = df_genero_count.sort_values(by=\"Count\",ascending=False)\n",
    "top_generos = df_genero_count.head()[\"genre\"].values"
   ]
  },
  {
   "cell_type": "code",
   "execution_count": null,
   "id": "a236a9cd",
   "metadata": {},
   "outputs": [],
   "source": [
    "#plot\n",
    "plt.figure(figsize=(16,8))\n",
    "\n",
    "for item in top_generos:\n",
    "    consulta = \"SELECT COUNT(*) Number_of_movies, premiered Year FROM titles WHERE genres LIKE\"+ \"\\\"\"+\"%\"+item+\"%\"+\"\\\"AND type=\\'movie\\' AND premiered <= 2022\"\n",
    "    resultado = pd.read_sql_query(consulta, conn)\n",
    "    plt.plot(resultado[\"Year\"], resultado[\"Number_of_movies\"])\n",
    "\n",
    "\n",
    "plt.xlabel(\"\\nAno\")\n",
    "plt.ylabel(\"Número de Filmes Avaliados\")\n",
    "plt.title(\"\\nNúmero de Filmes Avaliados Por Gênero Em Relação ao Ano de Estréia\\n\")\n",
    "plt.legend(labels=top_generos)\n",
    "plt.show()"
   ]
  },
  {
   "cell_type": "markdown",
   "id": "583f73f8",
   "metadata": {},
   "source": [
    "## Qual o filme com maior tempo de duração. Calcular os percentis"
   ]
  },
  {
   "cell_type": "code",
   "execution_count": null,
   "id": "aa610161",
   "metadata": {},
   "outputs": [],
   "source": [
    "consulta6 = \"\"\"\n",
    "            SELECT runtime_minutes Runtime\n",
    "            FROM titles\n",
    "            WHERE type=\"movie\" AND Runtime != \"NaN\"\n",
    "            \"\"\""
   ]
  },
  {
   "cell_type": "code",
   "execution_count": null,
   "id": "b4303eec",
   "metadata": {},
   "outputs": [],
   "source": [
    "resultado6 = pd.read_sql_query(consulta6, conn)"
   ]
  },
  {
   "cell_type": "code",
   "execution_count": null,
   "id": "36706ce8",
   "metadata": {},
   "outputs": [],
   "source": [
    "display(resultado6)"
   ]
  },
  {
   "cell_type": "code",
   "execution_count": null,
   "id": "2f17652b",
   "metadata": {},
   "outputs": [],
   "source": [
    "for i in range(101):\n",
    "    perc = round(np.percentile(resultado6[\"Runtime\"].values, i),2)\n",
    "    print(\"{} percentil da duração (runtime) é: {}\".format(i,perc))"
   ]
  },
  {
   "cell_type": "code",
   "execution_count": null,
   "id": "a5eb662c",
   "metadata": {},
   "outputs": [],
   "source": [
    "consulta6 = \"\"\"\n",
    "            SELECT runtime_minutes Runtime, primary_title\n",
    "            FROM titles\n",
    "            WHERE type=\"movie\" AND Runtime != \"NaN\"\n",
    "            ORDER BY Runtime DESC\n",
    "            LIMIT 1\n",
    "            \"\"\""
   ]
  },
  {
   "cell_type": "code",
   "execution_count": null,
   "id": "4f9c1d04",
   "metadata": {},
   "outputs": [],
   "source": [
    "resultado6 = pd.read_sql_query(consulta6, conn)"
   ]
  },
  {
   "cell_type": "code",
   "execution_count": null,
   "id": "52499974",
   "metadata": {},
   "outputs": [],
   "source": [
    "display(resultado6)"
   ]
  },
  {
   "cell_type": "markdown",
   "id": "686483bf",
   "metadata": {},
   "source": [
    "* Logistics é o filme mais longo já feito."
   ]
  },
  {
   "cell_type": "markdown",
   "id": "a27c25cb",
   "metadata": {},
   "source": [
    "## Qual a relação dos filmes entre duração e gênero?"
   ]
  },
  {
   "cell_type": "code",
   "execution_count": null,
   "id": "d03e2cef",
   "metadata": {},
   "outputs": [],
   "source": [
    "consulta7 = \"\"\"\n",
    "            SELECT AVG(runtime_minutes) Runtime, genres\n",
    "            FROM titles\n",
    "            WHERE type=\"movie\"\n",
    "            AND runtime_minutes != \"NaN\"\n",
    "            GROUP BY genres\n",
    "            \"\"\""
   ]
  },
  {
   "cell_type": "code",
   "execution_count": null,
   "id": "7d9c4ee3",
   "metadata": {},
   "outputs": [],
   "source": [
    "resultado7 = pd.read_sql_query(consulta7, conn)"
   ]
  },
  {
   "cell_type": "code",
   "execution_count": null,
   "id": "87c99a7c",
   "metadata": {},
   "outputs": [],
   "source": [
    "generos_unicos = res_generos(resultado7)"
   ]
  },
  {
   "cell_type": "code",
   "execution_count": null,
   "id": "ad08a3f7",
   "metadata": {},
   "outputs": [],
   "source": [
    "genero_runtime = []\n",
    "\n",
    "for item in generos_unicos:\n",
    "    consulta = \"SELECT runtime_minutes Runtime FROM titles WHERE genres LIKE\"+ \"\\\"\"+\"%\"+item+\"%\"+\"\\\" AND type=\\\"movie\\\" AND Runtime !=\\\"NaN\\\"\"\n",
    "    resultado = pd.read_sql_query(consulta, conn)\n",
    "    genero_runtime.append(np.median(resultado[\"Runtime\"]))"
   ]
  },
  {
   "cell_type": "code",
   "execution_count": null,
   "id": "6a50c2f9",
   "metadata": {},
   "outputs": [],
   "source": [
    "df_genero_runtime = pd.DataFrame()\n",
    "df_genero_runtime[\"genres\"] = generos_unicos\n",
    "df_genero_runtime[\"runtime\"] = genero_runtime"
   ]
  },
  {
   "cell_type": "code",
   "execution_count": null,
   "id": "51a4952e",
   "metadata": {},
   "outputs": [],
   "source": [
    "df_genero_runtime = df_genero_runtime.drop(index=18)"
   ]
  },
  {
   "cell_type": "code",
   "execution_count": null,
   "id": "20216177",
   "metadata": {},
   "outputs": [],
   "source": [
    "df_genero_runtime = df_genero_runtime.sort_values(by=\"runtime\", ascending=False)"
   ]
  },
  {
   "cell_type": "code",
   "execution_count": null,
   "id": "e7571608",
   "metadata": {},
   "outputs": [],
   "source": [
    "plt.figure(figsize=(16,9))\n",
    "\n",
    "sns.barplot(y=df_genero_runtime.genres, x=df_genero_runtime.runtime, orient=\"h\")\n",
    "\n",
    "for i in range(len(df_genero_runtime.index)):\n",
    "    plt.text(df_genero_runtime.runtime[df_genero_runtime.index[i]], i + 0.25, round(df_genero_runtime[\"runtime\"][df_genero_runtime.index[i]], 2))\n",
    "\n",
    "plt.xlabel(\"\\nMediana de tempo de duração(minutos)\")\n",
    "plt.ylabel(\"Gênero\")\n",
    "plt.title(\"\\nRelação entre duração e gênero\\n\")\n",
    "plt.show()"
   ]
  },
  {
   "cell_type": "markdown",
   "id": "6c485bb8",
   "metadata": {},
   "source": [
    "## Qual o número de filmes produzidos por país?"
   ]
  },
  {
   "cell_type": "code",
   "execution_count": 3,
   "id": "ff4efdbd",
   "metadata": {},
   "outputs": [],
   "source": [
    "consulta8 = \"\"\"\n",
    "            SELECT region, COUNT(*) Number_of_movies FROM\n",
    "            akas JOIN titles ON\n",
    "            akas.title_id = titles.title_id\n",
    "            WHERE region != \"None\"\n",
    "            AND type = \\\"movie\\\"\n",
    "            GROUP BY region\n",
    "            \"\"\""
   ]
  },
  {
   "cell_type": "code",
   "execution_count": 4,
   "id": "1e512e27",
   "metadata": {},
   "outputs": [],
   "source": [
    "resultado8 = pd.read_sql_query(consulta8, conn)"
   ]
  },
  {
   "cell_type": "code",
   "execution_count": 5,
   "id": "2b90c420",
   "metadata": {},
   "outputs": [
    {
     "data": {
      "text/html": [
       "<div>\n",
       "<style scoped>\n",
       "    .dataframe tbody tr th:only-of-type {\n",
       "        vertical-align: middle;\n",
       "    }\n",
       "\n",
       "    .dataframe tbody tr th {\n",
       "        vertical-align: top;\n",
       "    }\n",
       "\n",
       "    .dataframe thead th {\n",
       "        text-align: right;\n",
       "    }\n",
       "</style>\n",
       "<table border=\"1\" class=\"dataframe\">\n",
       "  <thead>\n",
       "    <tr style=\"text-align: right;\">\n",
       "      <th></th>\n",
       "      <th>region</th>\n",
       "      <th>Number_of_movies</th>\n",
       "    </tr>\n",
       "  </thead>\n",
       "  <tbody>\n",
       "    <tr>\n",
       "      <th>0</th>\n",
       "      <td>AD</td>\n",
       "      <td>22</td>\n",
       "    </tr>\n",
       "    <tr>\n",
       "      <th>1</th>\n",
       "      <td>AE</td>\n",
       "      <td>331</td>\n",
       "    </tr>\n",
       "    <tr>\n",
       "      <th>2</th>\n",
       "      <td>AF</td>\n",
       "      <td>108</td>\n",
       "    </tr>\n",
       "    <tr>\n",
       "      <th>3</th>\n",
       "      <td>AG</td>\n",
       "      <td>12</td>\n",
       "    </tr>\n",
       "    <tr>\n",
       "      <th>4</th>\n",
       "      <td>AL</td>\n",
       "      <td>1232</td>\n",
       "    </tr>\n",
       "    <tr>\n",
       "      <th>...</th>\n",
       "      <td>...</td>\n",
       "      <td>...</td>\n",
       "    </tr>\n",
       "    <tr>\n",
       "      <th>228</th>\n",
       "      <td>YUCS</td>\n",
       "      <td>146</td>\n",
       "    </tr>\n",
       "    <tr>\n",
       "      <th>229</th>\n",
       "      <td>ZA</td>\n",
       "      <td>3016</td>\n",
       "    </tr>\n",
       "    <tr>\n",
       "      <th>230</th>\n",
       "      <td>ZM</td>\n",
       "      <td>11</td>\n",
       "    </tr>\n",
       "    <tr>\n",
       "      <th>231</th>\n",
       "      <td>ZRCD</td>\n",
       "      <td>2</td>\n",
       "    </tr>\n",
       "    <tr>\n",
       "      <th>232</th>\n",
       "      <td>ZW</td>\n",
       "      <td>48</td>\n",
       "    </tr>\n",
       "  </tbody>\n",
       "</table>\n",
       "<p>233 rows × 2 columns</p>\n",
       "</div>"
      ],
      "text/plain": [
       "    region  Number_of_movies\n",
       "0       AD                22\n",
       "1       AE               331\n",
       "2       AF               108\n",
       "3       AG                12\n",
       "4       AL              1232\n",
       "..     ...               ...\n",
       "228   YUCS               146\n",
       "229     ZA              3016\n",
       "230     ZM                11\n",
       "231   ZRCD                 2\n",
       "232     ZW                48\n",
       "\n",
       "[233 rows x 2 columns]"
      ]
     },
     "metadata": {},
     "output_type": "display_data"
    }
   ],
   "source": [
    "display(resultado8)"
   ]
  },
  {
   "cell_type": "code",
   "execution_count": 6,
   "id": "97cbb4e9",
   "metadata": {},
   "outputs": [
    {
     "data": {
      "text/plain": [
       "(233, 2)"
      ]
     },
     "execution_count": 6,
     "metadata": {},
     "output_type": "execute_result"
    }
   ],
   "source": [
    "resultado8.shape"
   ]
  },
  {
   "cell_type": "code",
   "execution_count": 7,
   "id": "cad54ed7",
   "metadata": {},
   "outputs": [
    {
     "data": {
      "text/plain": [
       "233"
      ]
     },
     "execution_count": 7,
     "metadata": {},
     "output_type": "execute_result"
    }
   ],
   "source": [
    "#nº de linhas\n",
    "resultado8.shape[0]"
   ]
  },
  {
   "cell_type": "code",
   "execution_count": 8,
   "id": "dc2be093",
   "metadata": {},
   "outputs": [],
   "source": [
    "nome_paises = []\n",
    "contagem = []"
   ]
  },
  {
   "cell_type": "code",
   "execution_count": 9,
   "id": "24619d8a",
   "metadata": {},
   "outputs": [],
   "source": [
    "for i in range(resultado8.shape[0]):\n",
    "    try:\n",
    "        coun = resultado8[\"region\"].values[i]\n",
    "        nome_paises.append(pycountry.countries.get(alpha_2=coun).name)\n",
    "        contagem.append(resultado8[\"Number_of_movies\"].values[i])\n",
    "    except:\n",
    "        continue"
   ]
  },
  {
   "cell_type": "code",
   "execution_count": 11,
   "id": "f531935f",
   "metadata": {},
   "outputs": [],
   "source": [
    "df_filmes_paises = pd.DataFrame()\n",
    "df_filmes_paises[\"country\"] = nome_paises\n",
    "df_filmes_paises[\"Movie_Count\"] = contagem"
   ]
  },
  {
   "cell_type": "code",
   "execution_count": 12,
   "id": "f5bbf705",
   "metadata": {},
   "outputs": [],
   "source": [
    "df_filmes_paises = df_filmes_paises.sort_values(by=\"Movie_Count\", ascending=False)"
   ]
  },
  {
   "cell_type": "code",
   "execution_count": 13,
   "id": "6cd1dbf6",
   "metadata": {},
   "outputs": [
    {
     "data": {
      "text/html": [
       "<div>\n",
       "<style scoped>\n",
       "    .dataframe tbody tr th:only-of-type {\n",
       "        vertical-align: middle;\n",
       "    }\n",
       "\n",
       "    .dataframe tbody tr th {\n",
       "        vertical-align: top;\n",
       "    }\n",
       "\n",
       "    .dataframe thead th {\n",
       "        text-align: right;\n",
       "    }\n",
       "</style>\n",
       "<table border=\"1\" class=\"dataframe\">\n",
       "  <thead>\n",
       "    <tr style=\"text-align: right;\">\n",
       "      <th></th>\n",
       "      <th>country</th>\n",
       "      <th>Movie_Count</th>\n",
       "    </tr>\n",
       "  </thead>\n",
       "  <tbody>\n",
       "    <tr>\n",
       "      <th>199</th>\n",
       "      <td>United States</td>\n",
       "      <td>260967</td>\n",
       "    </tr>\n",
       "    <tr>\n",
       "      <th>65</th>\n",
       "      <td>United Kingdom</td>\n",
       "      <td>118319</td>\n",
       "    </tr>\n",
       "    <tr>\n",
       "      <th>96</th>\n",
       "      <td>Japan</td>\n",
       "      <td>88460</td>\n",
       "    </tr>\n",
       "    <tr>\n",
       "      <th>63</th>\n",
       "      <td>France</td>\n",
       "      <td>81461</td>\n",
       "    </tr>\n",
       "    <tr>\n",
       "      <th>89</th>\n",
       "      <td>India</td>\n",
       "      <td>72752</td>\n",
       "    </tr>\n",
       "    <tr>\n",
       "      <th>32</th>\n",
       "      <td>Canada</td>\n",
       "      <td>69100</td>\n",
       "    </tr>\n",
       "    <tr>\n",
       "      <th>47</th>\n",
       "      <td>Germany</td>\n",
       "      <td>65928</td>\n",
       "    </tr>\n",
       "    <tr>\n",
       "      <th>93</th>\n",
       "      <td>Italy</td>\n",
       "      <td>63354</td>\n",
       "    </tr>\n",
       "    <tr>\n",
       "      <th>26</th>\n",
       "      <td>Brazil</td>\n",
       "      <td>62220</td>\n",
       "    </tr>\n",
       "    <tr>\n",
       "      <th>58</th>\n",
       "      <td>Spain</td>\n",
       "      <td>62063</td>\n",
       "    </tr>\n",
       "  </tbody>\n",
       "</table>\n",
       "</div>"
      ],
      "text/plain": [
       "            country  Movie_Count\n",
       "199   United States       260967\n",
       "65   United Kingdom       118319\n",
       "96            Japan        88460\n",
       "63           France        81461\n",
       "89            India        72752\n",
       "32           Canada        69100\n",
       "47          Germany        65928\n",
       "93            Italy        63354\n",
       "26           Brazil        62220\n",
       "58            Spain        62063"
      ]
     },
     "execution_count": 13,
     "metadata": {},
     "output_type": "execute_result"
    }
   ],
   "source": [
    "df_filmes_paises.head(10)"
   ]
  },
  {
   "cell_type": "code",
   "execution_count": 17,
   "id": "2c5b926e",
   "metadata": {},
   "outputs": [
    {
     "data": {
      "image/png": "[encoded data removed]",
      "text/plain": [
       "<Figure size 1152x648 with 1 Axes>"
      ]
     },
     "metadata": {},
     "output_type": "display_data"
    }
   ],
   "source": [
    "plt.figure(figsize=(16,9))\n",
    "\n",
    "sns.barplot(y = df_filmes_paises[:20].country, x = df_filmes_paises[:20].Movie_Count, orient=\"h\")\n",
    "\n",
    "\n",
    "for i in range(0,20):\n",
    "    plt.text(df_filmes_paises.Movie_Count[df_filmes_paises.index[i]-1], i + 0.30,\n",
    "            round(df_filmes_paises[\"Movie_Count\"][df_filmes_paises.index[i]], 2))\n",
    "\n",
    "plt.xlabel(\"\\nNúmero de Filmes\")\n",
    "plt.ylabel(\"País\")\n",
    "plt.title(\"\\nNúmero de Filmes Por País\\n\")\n",
    "plt.show()"
   ]
  },
  {
   "cell_type": "markdown",
   "id": "9beae261",
   "metadata": {},
   "source": [
    "## Top 10 Melhores Filmes"
   ]
  },
  {
   "cell_type": "code",
   "execution_count": 21,
   "id": "929ae531",
   "metadata": {},
   "outputs": [],
   "source": [
    "consulta9 = \"\"\"\n",
    "            SELECT primary_title AS Movie_Name, genres, rating\n",
    "            FROM titles JOIN ratings\n",
    "            ON titles.title_id = ratings.title_id\n",
    "            WHERE titles.type = \"movie\" AND ratings.votes >= 25000\n",
    "            ORDER BY rating DESC\n",
    "            LIMIT 10\n",
    "            \"\"\""
   ]
  },
  {
   "cell_type": "code",
   "execution_count": 22,
   "id": "9b716e69",
   "metadata": {},
   "outputs": [],
   "source": [
    "#Resultado\n",
    "top10_melhores = pd.read_sql_query(consulta9, conn)"
   ]
  },
  {
   "cell_type": "code",
   "execution_count": 23,
   "id": "e85f01ec",
   "metadata": {},
   "outputs": [
    {
     "data": {
      "text/html": [
       "<div>\n",
       "<style scoped>\n",
       "    .dataframe tbody tr th:only-of-type {\n",
       "        vertical-align: middle;\n",
       "    }\n",
       "\n",
       "    .dataframe tbody tr th {\n",
       "        vertical-align: top;\n",
       "    }\n",
       "\n",
       "    .dataframe thead th {\n",
       "        text-align: right;\n",
       "    }\n",
       "</style>\n",
       "<table border=\"1\" class=\"dataframe\">\n",
       "  <thead>\n",
       "    <tr style=\"text-align: right;\">\n",
       "      <th></th>\n",
       "      <th>Movie_Name</th>\n",
       "      <th>genres</th>\n",
       "      <th>rating</th>\n",
       "    </tr>\n",
       "  </thead>\n",
       "  <tbody>\n",
       "    <tr>\n",
       "      <th>0</th>\n",
       "      <td>The Shawshank Redemption</td>\n",
       "      <td>Drama</td>\n",
       "      <td>9.3</td>\n",
       "    </tr>\n",
       "    <tr>\n",
       "      <th>1</th>\n",
       "      <td>The Chaos Class</td>\n",
       "      <td>Comedy,Drama</td>\n",
       "      <td>9.3</td>\n",
       "    </tr>\n",
       "    <tr>\n",
       "      <th>2</th>\n",
       "      <td>The Godfather</td>\n",
       "      <td>Crime,Drama</td>\n",
       "      <td>9.2</td>\n",
       "    </tr>\n",
       "    <tr>\n",
       "      <th>3</th>\n",
       "      <td>CM101MMXI Fundamentals</td>\n",
       "      <td>Comedy,Documentary</td>\n",
       "      <td>9.2</td>\n",
       "    </tr>\n",
       "    <tr>\n",
       "      <th>4</th>\n",
       "      <td>Soorarai Pottru</td>\n",
       "      <td>Drama</td>\n",
       "      <td>9.1</td>\n",
       "    </tr>\n",
       "    <tr>\n",
       "      <th>5</th>\n",
       "      <td>12 Angry Men</td>\n",
       "      <td>Crime,Drama</td>\n",
       "      <td>9.0</td>\n",
       "    </tr>\n",
       "    <tr>\n",
       "      <th>6</th>\n",
       "      <td>The Godfather: Part II</td>\n",
       "      <td>Crime,Drama</td>\n",
       "      <td>9.0</td>\n",
       "    </tr>\n",
       "    <tr>\n",
       "      <th>7</th>\n",
       "      <td>The Dark Knight</td>\n",
       "      <td>Action,Crime,Drama</td>\n",
       "      <td>9.0</td>\n",
       "    </tr>\n",
       "    <tr>\n",
       "      <th>8</th>\n",
       "      <td>David Attenborough: A Life on Our Planet</td>\n",
       "      <td>Biography,Documentary</td>\n",
       "      <td>9.0</td>\n",
       "    </tr>\n",
       "    <tr>\n",
       "      <th>9</th>\n",
       "      <td>Schindler's List</td>\n",
       "      <td>Biography,Drama,History</td>\n",
       "      <td>8.9</td>\n",
       "    </tr>\n",
       "  </tbody>\n",
       "</table>\n",
       "</div>"
      ],
      "text/plain": [
       "                                 Movie_Name                   genres  rating\n",
       "0                  The Shawshank Redemption                    Drama     9.3\n",
       "1                           The Chaos Class             Comedy,Drama     9.3\n",
       "2                             The Godfather              Crime,Drama     9.2\n",
       "3                    CM101MMXI Fundamentals       Comedy,Documentary     9.2\n",
       "4                           Soorarai Pottru                    Drama     9.1\n",
       "5                              12 Angry Men              Crime,Drama     9.0\n",
       "6                    The Godfather: Part II              Crime,Drama     9.0\n",
       "7                           The Dark Knight       Action,Crime,Drama     9.0\n",
       "8  David Attenborough: A Life on Our Planet    Biography,Documentary     9.0\n",
       "9                          Schindler's List  Biography,Drama,History     8.9"
      ]
     },
     "metadata": {},
     "output_type": "display_data"
    }
   ],
   "source": [
    "display(top10_melhores)"
   ]
  },
  {
   "cell_type": "markdown",
   "id": "029617b3",
   "metadata": {},
   "source": [
    "## Top 10 piores filmes"
   ]
  },
  {
   "cell_type": "code",
   "execution_count": 27,
   "id": "a6883cc1",
   "metadata": {},
   "outputs": [],
   "source": [
    "consulta10 =\"\"\"\n",
    "            SELECT primary_title AS Movie_Name, genres, rating\n",
    "            FROM titles JOIN ratings\n",
    "            ON titles.title_id = ratings.title_id\n",
    "            WHERE titles.type = \"movie\" AND ratings.votes >= 25000\n",
    "            ORDER BY rating ASC\n",
    "            LIMIT 10\n",
    "            \"\"\""
   ]
  },
  {
   "cell_type": "code",
   "execution_count": 28,
   "id": "46f27cd9",
   "metadata": {},
   "outputs": [],
   "source": [
    "#Resultado\n",
    "top10_piores = pd.read_sql_query(consulta10, conn)"
   ]
  },
  {
   "cell_type": "code",
   "execution_count": 29,
   "id": "11e6387e",
   "metadata": {},
   "outputs": [
    {
     "data": {
      "text/html": [
       "<div>\n",
       "<style scoped>\n",
       "    .dataframe tbody tr th:only-of-type {\n",
       "        vertical-align: middle;\n",
       "    }\n",
       "\n",
       "    .dataframe tbody tr th {\n",
       "        vertical-align: top;\n",
       "    }\n",
       "\n",
       "    .dataframe thead th {\n",
       "        text-align: right;\n",
       "    }\n",
       "</style>\n",
       "<table border=\"1\" class=\"dataframe\">\n",
       "  <thead>\n",
       "    <tr style=\"text-align: right;\">\n",
       "      <th></th>\n",
       "      <th>Movie_Name</th>\n",
       "      <th>genres</th>\n",
       "      <th>rating</th>\n",
       "    </tr>\n",
       "  </thead>\n",
       "  <tbody>\n",
       "    <tr>\n",
       "      <th>0</th>\n",
       "      <td>Cumali Ceber</td>\n",
       "      <td>Comedy</td>\n",
       "      <td>1.0</td>\n",
       "    </tr>\n",
       "    <tr>\n",
       "      <th>1</th>\n",
       "      <td>Smolensk</td>\n",
       "      <td>Drama,Thriller</td>\n",
       "      <td>1.1</td>\n",
       "    </tr>\n",
       "    <tr>\n",
       "      <th>2</th>\n",
       "      <td>Sadak 2</td>\n",
       "      <td>Action,Drama</td>\n",
       "      <td>1.1</td>\n",
       "    </tr>\n",
       "    <tr>\n",
       "      <th>3</th>\n",
       "      <td>Reis</td>\n",
       "      <td>Biography,Drama</td>\n",
       "      <td>1.4</td>\n",
       "    </tr>\n",
       "    <tr>\n",
       "      <th>4</th>\n",
       "      <td>Justin Bieber: Never Say Never</td>\n",
       "      <td>Documentary,Music</td>\n",
       "      <td>1.6</td>\n",
       "    </tr>\n",
       "    <tr>\n",
       "      <th>5</th>\n",
       "      <td>Manos: The Hands of Fate</td>\n",
       "      <td>Drama,Horror</td>\n",
       "      <td>1.8</td>\n",
       "    </tr>\n",
       "    <tr>\n",
       "      <th>6</th>\n",
       "      <td>Radhe</td>\n",
       "      <td>Action,Crime,Thriller</td>\n",
       "      <td>1.8</td>\n",
       "    </tr>\n",
       "    <tr>\n",
       "      <th>7</th>\n",
       "      <td>Superbabies: Baby Geniuses 2</td>\n",
       "      <td>Comedy,Family,Sci-Fi</td>\n",
       "      <td>1.9</td>\n",
       "    </tr>\n",
       "    <tr>\n",
       "      <th>8</th>\n",
       "      <td>The Hottie &amp; the Nottie</td>\n",
       "      <td>Comedy,Romance</td>\n",
       "      <td>1.9</td>\n",
       "    </tr>\n",
       "    <tr>\n",
       "      <th>9</th>\n",
       "      <td>Disaster Movie</td>\n",
       "      <td>Comedy,Sci-Fi</td>\n",
       "      <td>1.9</td>\n",
       "    </tr>\n",
       "  </tbody>\n",
       "</table>\n",
       "</div>"
      ],
      "text/plain": [
       "                       Movie_Name                 genres  rating\n",
       "0                    Cumali Ceber                 Comedy     1.0\n",
       "1                        Smolensk         Drama,Thriller     1.1\n",
       "2                         Sadak 2           Action,Drama     1.1\n",
       "3                            Reis        Biography,Drama     1.4\n",
       "4  Justin Bieber: Never Say Never      Documentary,Music     1.6\n",
       "5        Manos: The Hands of Fate           Drama,Horror     1.8\n",
       "6                           Radhe  Action,Crime,Thriller     1.8\n",
       "7    Superbabies: Baby Geniuses 2   Comedy,Family,Sci-Fi     1.9\n",
       "8         The Hottie & the Nottie         Comedy,Romance     1.9\n",
       "9                  Disaster Movie          Comedy,Sci-Fi     1.9"
      ]
     },
     "metadata": {},
     "output_type": "display_data"
    }
   ],
   "source": [
    "display(top10_piores)"
   ]
  },
  {
   "cell_type": "markdown",
   "id": "d877dbac",
   "metadata": {},
   "source": [
    "## FIM\n"
   ]
  },
  {
   "cell_type": "code",
   "execution_count": null,
   "id": "03aa9981",
   "metadata": {},
   "outputs": [],
   "source": []
  }
 ],
 "metadata": {
  "kernelspec": {
   "display_name": "Python 3",
   "language": "python",
   "name": "python3"
  },
  "language_info": {
   "codemirror_mode": {
    "name": "ipython",
    "version": 3
   },
   "file_extension": ".py",
   "mimetype": "text/x-python",
   "name": "python",
   "nbconvert_exporter": "python",
   "pygments_lexer": "ipython3",
   "version": "3.8.8"
  }
 },
 "nbformat": 4,
 "nbformat_minor": 5
}
